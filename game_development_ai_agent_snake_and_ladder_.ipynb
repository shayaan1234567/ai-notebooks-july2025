{
  "nbformat": 4,
  "nbformat_minor": 0,
  "metadata": {
    "colab": {
      "provenance": [],
      "authorship_tag": "ABX9TyO/KPf5hI3aN0/2gFik1fkC",
      "include_colab_link": true
    },
    "kernelspec": {
      "name": "python3",
      "display_name": "Python 3"
    },
    "language_info": {
      "name": "python"
    }
  },
  "cells": [
    {
      "cell_type": "markdown",
      "metadata": {
        "id": "view-in-github",
        "colab_type": "text"
      },
      "source": [
        "<a href=\"https://colab.research.google.com/github/shayaan1234567/ai-notebooks-july2025/blob/main/game_development_ai_agent_snake_and_ladder_.ipynb\" target=\"_parent\"><img src=\"https://colab.research.google.com/assets/colab-badge.svg\" alt=\"Open In Colab\"/></a>"
      ]
    },
    {
      "cell_type": "code",
      "execution_count": null,
      "metadata": {
        "colab": {
          "base_uri": "https://localhost:8080/"
        },
        "id": "N533GMhf8-HB",
        "outputId": "99bb3c4e-7050-49ca-97fc-c20b7b92ef7a"
      },
      "outputs": [
        {
          "output_type": "stream",
          "name": "stdout",
          "text": [
            "🎮 Game Generator AI Agent Ready! Type 'exit' to quit.\n",
            "\n"
          ]
        }
      ],
      "source": [
        "import openai\n",
        "\n",
        "openai.api_key = \"your_openai_api_key_here\"\n",
        "\n",
        "def generate_game(prompt):\n",
        "    full_prompt = f\"\"\"You are a Python game developer. Write a complete, working game in Python based on this request:\n",
        "{prompt}\n",
        "Only provide the code. Use pygame if needed.\n",
        "\"\"\"\n",
        "    response = openai.ChatCompletion.create(\n",
        "        model=\"gpt-4\",  # or \"gpt-3.5-turbo\" if GPT-4 is not available\n",
        "        messages=[\n",
        "            {\"role\": \"system\", \"content\": \"You are a helpful game developer who writes Python game code.\"},\n",
        "            {\"role\": \"user\", \"content\": full_prompt}\n",
        "        ]\n",
        "    )\n",
        "\n",
        "    game_code = response['choices'][0]['message']['content']\n",
        "    return game_code\n",
        "\n",
        "\n",
        "print(\"🎮 Game Generator AI Agent Ready! Type 'exit' to quit.\\n\")\n",
        "while True:\n",
        "    user_input = input(\"You (game idea): \")\n",
        "    if user_input.lower() == \"exit\":\n",
        "        print(\"👋 Exiting.\")\n",
        "        break\n",
        "\n",
        "    result = generate_game(user_input)\n",
        "    print(\"\\n🧠 AI Agent Generated Game Code:\\n\")\n",
        "    print(result)\n"
      ]
    }
  ]
}